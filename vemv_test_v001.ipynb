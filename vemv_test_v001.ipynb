{
 "cells": [
  {
   "cell_type": "code",
   "execution_count": null,
   "id": "a8b77c41-c97d-433c-87c6-aa3ef4259c26",
   "metadata": {},
   "outputs": [],
   "source": [
    "%%capture\n",
    "# Step 1: Install the bash_kernel package, which allows running Bash commands in Jupyter Notebook\n",
    "!pip install bash_kernel\n",
    "\n",
    "# Step 2: Register the Bash kernel with Jupyter, making it available as an option in the notebook\n",
    "!python -m bash_kernel.install\n",
    "\n",
    "# Step 3: Create a new Conda environment named 'virtualENV' with Python 3.12\n",
    "!conda create --name virtualENV python=3.12 -y\n",
    "\n",
    "# Step 4: Activate the 'virtualENV' environment so that all subsequent commands use it\n",
    "# NOTE: This command will not work directly in Jupyter, as environment activation happens in the shell, not Jupyter.\n",
    "# To activate it manually, use the terminal or add the kernel to Jupyter as done below.\n",
    "# !conda activate virtualENV  # This would work in the terminal, not in Jupyter\n",
    "\n",
    "# Step 5: Install the ipykernel package, which allows Jupyter to run Python code in different environments\n",
    "!pip install ipykernel\n",
    "\n",
    "# Step 6: Register the Conda environment ('virtualENV') as a new Jupyter kernel\n",
    "# --user         → Installs the kernel for the current user\n",
    "# --name         → Internal name for the kernel (used by Jupyter)\n",
    "# --display-name → The name shown in Jupyter when selecting the kernel\n",
    "!python -m ipykernel install --user --name=virtualENV --display-name \"Python (virtualENV)\" python=3.12\n",
    "\n",
    "# Step 7: NOTE: After running the above command, you need to manually select the 'Python (virtualENV)' kernel in Jupyter:\n",
    "# - Restart your Jupyter notebook or refresh the Jupyter interface.\n",
    "# - Go to the Kernel menu and choose \"Change Kernel\" → \"Python (virtualENV)\"\n",
    "\n",
    "# Step 8: Generate a requirements.txt file, which lists all installed packages in the current environment\n",
    "!pip freeze > requirements.txt\n",
    "\n",
    "# Step 9: Install all the packages listed in the requirements.txt file (useful for setting up a new environment with the same packages)\n",
    "!pip install -r requirements.txt\n",
    "\n",
    "# Step 10: List available Jupyter kernels to check if 'virtualENV' was successfully added\n",
    "!jupyter kernelspec list"
   ]
  },
  {
   "cell_type": "code",
   "execution_count": null,
   "id": "2297ef24-556c-4607-ac92-c0fabf72995b",
   "metadata": {},
   "outputs": [],
   "source": [
    "%%capture\n",
    "# Step 1: Create a new Conda environment named 'virtualENV' with Python 3.12\n",
    "!conda create --name virtualENV python=3.12 -y\n",
    "\n",
    "# Step 2: Activate the 'virtualENV' environment (Note: This command works in the terminal, not Jupyter)\n",
    "# Use the terminal to activate Conda:\n",
    "# !conda activate virtualENV\n",
    "\n",
    "# If using a virtual environment (venv), activate it as follows (works in the terminal):\n",
    "# !./virtualENV/Scripts/activate  # Windows\n",
    "# or\n",
    "# !source virtualENV/bin/activate  # macOS/Linux\n",
    "\n",
    "# Step 3: Install the dependencies using the 'requirements.txt' file\n",
    "!pip install -r requirements.txt\n",
    "\n",
    "# Step 4: Install the ipykernel package to allow Jupyter to use this environment as a kernel\n",
    "!pip install ipykernel\n",
    "\n",
    "# Step 5: Register the 'virtualENV' Conda environment as a new Jupyter kernel\n",
    "# --user         → Installs the kernel for the current user\n",
    "# --name         → Internal name for the kernel (used by Jupyter)\n",
    "# --display-name → The name shown in Jupyter when selecting the kernel\n",
    "!python -m ipykernel install --user --name=virtualENV --display-name \"Python (virtualENV)\"\n",
    "\n",
    "# Step 6: NOTE: After running the above command, you need to manually select the 'Python (virtualENV)' kernel in Jupyter:\n",
    "# - Restart your Jupyter notebook or refresh the Jupyter interface.\n",
    "# - Go to the Kernel menu and choose \"Change Kernel\" → \"Python (virtualENV)\"\n",
    "\n",
    "# Step 7: List available Jupyter kernels to check if 'virtualENV' was successfully added\n",
    "!jupyter kernelspec list"
   ]
  },
  {
   "cell_type": "code",
   "execution_count": null,
   "id": "75f5bd92-2b12-4d49-8845-ff10c0b64573",
   "metadata": {},
   "outputs": [],
   "source": [
    "%%capture\n",
    "# Step 1: Uninstall the Jupyter kernel named 'virtualENV' (only needed if the kernel is already registered)\n",
    "# NOTE: This will remove the kernel from Jupyter.\n",
    "!jupyter kernelspec uninstall virtualENV\n",
    "\n",
    "# Step 2: Deactivate the Conda environment (if you have it activated)\n",
    "# NOTE: This command should be run in the terminal (not in Jupyter).\n",
    "# In the terminal, run:\n",
    "# !conda deactivate\n",
    "\n",
    "# Step 3: Delete the Conda environment 'virtualENV'\n",
    "# NOTE: This will completely remove the Conda environment.\n",
    "# In the terminal, run:\n",
    "# !conda remove --name virtualENV --all -y\n",
    "\n",
    "# Step 4: If you created a virtual environment using 'python -m venv', delete the 'virtualENV' directory\n",
    "# NOTE: This will completely remove the virtual environment folder.\n",
    "# In the terminal (Unix-based systems like macOS/Linux):\n",
    "# !rm -rf virtualENV  # Deletes the virtual environment folder\n",
    "# On Windows (Command Prompt), use:\n",
    "# !rmdir /s /q virtualENV  # Removes the virtual environment folder\n",
    "\n",
    "# Step 5: Clean up installed Python packages (optional)\n",
    "# If you want to clean up the global environment, you can uninstall all installed packages.\n",
    "# This will uninstall all packages installed globally using pip.\n",
    "# In the terminal, run:\n",
    "# !pip freeze | xargs pip uninstall -y\n"
   ]
  },
  {
   "cell_type": "code",
   "execution_count": null,
   "id": "bfae1f99-28c7-45a2-b14a-2c3493a5d389",
   "metadata": {},
   "outputs": [],
   "source": []
  },
  {
   "cell_type": "code",
   "execution_count": null,
   "id": "1609e495-af32-4bc5-873e-d944c4a1237e",
   "metadata": {},
   "outputs": [],
   "source": []
  },
  {
   "cell_type": "code",
   "execution_count": null,
   "id": "a1d05e35-ffcb-472f-8a24-068bb8724c80",
   "metadata": {},
   "outputs": [],
   "source": []
  },
  {
   "cell_type": "code",
   "execution_count": null,
   "id": "1aafa113-3132-4089-bbde-501b190ad383",
   "metadata": {},
   "outputs": [],
   "source": []
  },
  {
   "cell_type": "code",
   "execution_count": 1,
   "id": "103f77fb-2d15-4d63-bb38-adce7175c0e1",
   "metadata": {},
   "outputs": [],
   "source": [
    "import os\n",
    "#os._exit(00)  # Forces Jupyter to restart, effectively deactivating any Conda env\n",
    "# If you need to manually deactivate Conda, do it in a separate terminal: \"conda deactivate\""
   ]
  },
  {
   "cell_type": "code",
   "execution_count": null,
   "id": "114e7e51-3e06-4ca6-b152-05db672cba9e",
   "metadata": {},
   "outputs": [],
   "source": [
    "%%capture\n",
    "# Install the bash_kernel package, which allows running Bash commands in Jupyter Notebook\n",
    "!pip install bash_kernel\n",
    "# Register the Bash kernel with Jupyter, making it available as an option in the notebook\n",
    "!python -m bash_kernel.install\n",
    "# Create a new Conda environment named 'virtualENV' with Python 3.12\n",
    "!conda create --name virtualENV python=3.12 -y\n",
    "# Activate the 'virtualENV' environment so that all subsequent commands use it\n",
    "!conda activate virtualENV\n",
    "# Install the ipykernel package, which allows Jupyter to run Python code\n",
    "!pip install ipykernel\n",
    "# Register the virtual environment (virtualENV) as a new Jupyter kernel\n",
    "!python -m ipykernel install --user --name=virtualENV --display-name \"Python (virtualENV)\" python=3.12\n",
    "# --user         → Installs the kernel for the current user\n",
    "# --name         → Internal name for the kernel (used by Jupyter)\n",
    "# --display-name → The name shown in Jupyter when selecting the kernel\n",
    "# Uninstall the Jupyter kernel named 'virtualENV'\n",
    "#!jupyter kernelspec uninstall virtualenv\n",
    "!jupyter kernelspec list"
   ]
  },
  {
   "cell_type": "code",
   "execution_count": null,
   "id": "d166da2c-4a26-4623-912f-e36ca1b2e545",
   "metadata": {},
   "outputs": [],
   "source": [
    "%%capture\n",
    "# Install the bash_kernel package, which allows running Bash commands in Jupyter Notebook\n",
    "!pip install bash_kernel\n",
    "\n",
    "# Register the Bash kernel with Jupyter, making it available as an option in the notebook\n",
    "!python -m bash_kernel.install\n",
    "\n",
    "# Create a new Conda environment named 'virtualENV' with Python 3.12\n",
    "!conda create --name virtualENV python=3.12 -y\n",
    "\n",
    "# Activate the 'virtualENV' environment so that all subsequent commands use it\n",
    "# NOTE: This command will not work directly in Jupyter, as environment activation happens in the shell, not Jupyter.\n",
    "# To activate it manually, use the terminal or add the kernel to Jupyter as done below.\n",
    "# !conda activate virtualENV  # This would work in the terminal, not in Jupyter\n",
    "\n",
    "# Install the ipykernel package, which allows Jupyter to run Python code in different environments\n",
    "!pip install ipykernel\n",
    "\n",
    "# Register the Conda environment ('virtualENV') as a new Jupyter kernel\n",
    "# --user         → Installs the kernel for the current user\n",
    "# --name         → Internal name for the kernel (used by Jupyter)\n",
    "# --display-name → The name shown in Jupyter when selecting the kernel\n",
    "!python -m ipykernel install --user --name=virtualENV --display-name \"Python (virtualENV)\" python=3.12\n",
    "\n",
    "# Generate a requirements.txt file, which lists all installed packages in the current environment\n",
    "!pip freeze > requirements.txt\n",
    "\n",
    "# Install all the packages listed in the requirements.txt file (useful for setting up a new environment with the same packages)\n",
    "!pip install -r requirements.txt\n",
    "\n",
    "# List available Jupyter kernels to check if 'virtualENV' was successfully added\n",
    "!jupyter kernelspec list"
   ]
  },
  {
   "cell_type": "code",
   "execution_count": 3,
   "id": "e7f7e9ae-5b9a-4d95-9ad2-8aa4781eeb38",
   "metadata": {},
   "outputs": [],
   "source": [
    "# Start JupyterLab, an interactive development environment for Jupyter notebooks\n",
    "# This command launches JupyterLab in the default web browser\n",
    "# !jupyter lab"
   ]
  },
  {
   "cell_type": "code",
   "execution_count": 4,
   "id": "76e6e6cd-846e-4071-9774-eec1969c004f",
   "metadata": {},
   "outputs": [],
   "source": [
    "%%capture\n",
    "# Uninstall the bash_kernel Package\n",
    "#!pip uninstall bash_kernel -y\n",
    "# Remove the Jupyter Kernel for Bash\n",
    "#!jupyter kernelspec uninstall bash -y\n",
    "# Verify that Bash Kernel is Gone\n",
    "#!jupyter kernelspec list\n",
    "# Restart Jupyter Notebook\n",
    "#!jupyter notebook stop\n",
    "#!jupyter lab"
   ]
  },
  {
   "cell_type": "code",
   "execution_count": null,
   "id": "8b11cdca-0daa-42e7-ab16-221a085c69b7",
   "metadata": {
    "scrolled": true
   },
   "outputs": [],
   "source": []
  },
  {
   "cell_type": "code",
   "execution_count": null,
   "id": "471b0d24-50ab-4e76-94ab-9be5f16d4556",
   "metadata": {},
   "outputs": [],
   "source": [
    "!pip freeze > requirements.txt"
   ]
  },
  {
   "cell_type": "code",
   "execution_count": null,
   "id": "dbc7ce23-f2eb-438f-83a9-7156143b1ec8",
   "metadata": {},
   "outputs": [],
   "source": [
    "#!pip install -r requirements.txt"
   ]
  },
  {
   "cell_type": "code",
   "execution_count": null,
   "id": "3f5f323d-d9be-4cd3-b5a6-35e77682daa2",
   "metadata": {},
   "outputs": [],
   "source": [
    "pwd"
   ]
  },
  {
   "cell_type": "code",
   "execution_count": null,
   "id": "822d4efa-6fd7-427e-b1ab-1eb24821160d",
   "metadata": {},
   "outputs": [],
   "source": [
    "import os; os.getcwd()"
   ]
  },
  {
   "cell_type": "code",
   "execution_count": null,
   "id": "6c0778ac-893e-4d91-8226-69040df23972",
   "metadata": {},
   "outputs": [],
   "source": []
  },
  {
   "cell_type": "code",
   "execution_count": null,
   "id": "d0b445a1-8bce-4ad5-9891-c3f7976d4faf",
   "metadata": {},
   "outputs": [],
   "source": []
  },
  {
   "cell_type": "code",
   "execution_count": null,
   "id": "7baee417-1dd1-459a-85e6-168cd474531b",
   "metadata": {},
   "outputs": [],
   "source": []
  },
  {
   "cell_type": "code",
   "execution_count": null,
   "id": "4fdacb1d-1ecc-4cdb-aaa1-3cbaf94a7f42",
   "metadata": {
    "scrolled": true
   },
   "outputs": [],
   "source": []
  },
  {
   "cell_type": "code",
   "execution_count": null,
   "id": "9454d7c2-75d1-412a-996a-09319a54458f",
   "metadata": {},
   "outputs": [],
   "source": []
  },
  {
   "cell_type": "code",
   "execution_count": null,
   "id": "142ec28a-4484-4560-9ccc-6fae0e6f79f6",
   "metadata": {},
   "outputs": [],
   "source": []
  },
  {
   "cell_type": "code",
   "execution_count": null,
   "id": "99d18d6f-e867-49e2-bda1-5e2eacd6e7fb",
   "metadata": {},
   "outputs": [],
   "source": []
  },
  {
   "cell_type": "code",
   "execution_count": null,
   "id": "da639bb6-4c1f-4781-8306-6de61ebb23e3",
   "metadata": {},
   "outputs": [],
   "source": []
  },
  {
   "cell_type": "code",
   "execution_count": null,
   "id": "4b779404-6a68-4e89-bff2-bea4c3261558",
   "metadata": {},
   "outputs": [],
   "source": []
  },
  {
   "cell_type": "code",
   "execution_count": null,
   "id": "6a1d9e6a-a9bf-46c1-ab12-dac7667d1902",
   "metadata": {},
   "outputs": [],
   "source": []
  },
  {
   "cell_type": "code",
   "execution_count": null,
   "id": "31ee1f02-b3d3-4e7e-b1e9-d92436f4b845",
   "metadata": {},
   "outputs": [],
   "source": []
  }
 ],
 "metadata": {
  "kernelspec": {
   "display_name": "Python (jupyterlab)",
   "language": "python",
   "name": "jupyterlab"
  },
  "language_info": {
   "codemirror_mode": {
    "name": "ipython",
    "version": 3
   },
   "file_extension": ".py",
   "mimetype": "text/x-python",
   "name": "python",
   "nbconvert_exporter": "python",
   "pygments_lexer": "ipython3",
   "version": "3.12.3"
  }
 },
 "nbformat": 4,
 "nbformat_minor": 5
}
