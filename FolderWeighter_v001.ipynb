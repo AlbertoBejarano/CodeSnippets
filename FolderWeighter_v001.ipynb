{
 "cells": [
  {
   "cell_type": "code",
   "execution_count": 1,
   "id": "f0400a9b-f5aa-4057-b2de-612037759948",
   "metadata": {},
   "outputs": [],
   "source": [
    "import glob\n",
    "import os"
   ]
  },
  {
   "cell_type": "code",
   "execution_count": 2,
   "id": "f19ffea1-20f4-4d5c-a9ed-1550ba7c6a56",
   "metadata": {},
   "outputs": [
    {
     "data": {
      "text/plain": [
       "'C:\\\\Users\\\\alber\\\\Python Projects\\\\Miscellanea'"
      ]
     },
     "execution_count": 2,
     "metadata": {},
     "output_type": "execute_result"
    }
   ],
   "source": [
    "path = os.getcwd(); path"
   ]
  },
  {
   "cell_type": "code",
   "execution_count": 3,
   "id": "271b1d64-016b-4ac5-92dc-83c240f4525e",
   "metadata": {},
   "outputs": [],
   "source": [
    "src_path = path + '\\\\FolderWeighter\\\\data\\\\'"
   ]
  },
  {
   "cell_type": "code",
   "execution_count": 4,
   "id": "b4791257-31e9-4d4c-9924-29c69925134e",
   "metadata": {},
   "outputs": [],
   "source": [
    "file_count = 0; total_size = 0\n",
    "for file_path in glob.glob(os.path.join(src_path, '**', '*.*'), recursive=True):\n",
    "        try:\n",
    "            file_size   = os.path.getsize(file_path)\n",
    "            total_size += file_size\n",
    "            file_count += 1\n",
    "        except Exception as e:\n",
    "            print(e)     "
   ]
  },
  {
   "cell_type": "code",
   "execution_count": 5,
   "id": "da4274f6-b105-40ee-b016-35494b37db5b",
   "metadata": {},
   "outputs": [
    {
     "name": "stdout",
     "output_type": "stream",
     "text": [
      "7 files found\n"
     ]
    }
   ],
   "source": [
    "print(file_count, \"files found\")"
   ]
  },
  {
   "cell_type": "code",
   "execution_count": 6,
   "id": "00e437ec-cdc5-45cc-8203-666543c78da7",
   "metadata": {},
   "outputs": [
    {
     "name": "stdout",
     "output_type": "stream",
     "text": [
      "51.8 MB total file size\n"
     ]
    }
   ],
   "source": [
    "print(\"%3.1f %s\" %(total_size/(1024*1024), \"MB total file size\"))"
   ]
  }
 ],
 "metadata": {
  "kernelspec": {
   "display_name": "Python 3 (ipykernel)",
   "language": "python",
   "name": "python3"
  },
  "language_info": {
   "codemirror_mode": {
    "name": "ipython",
    "version": 3
   },
   "file_extension": ".py",
   "mimetype": "text/x-python",
   "name": "python",
   "nbconvert_exporter": "python",
   "pygments_lexer": "ipython3",
   "version": "3.9.7"
  }
 },
 "nbformat": 4,
 "nbformat_minor": 5
}
