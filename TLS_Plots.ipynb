{
 "cells": [
  {
   "cell_type": "code",
   "execution_count": 1,
   "id": "98f2c698-7fe8-4aa3-9b31-d7af07ffdbf6",
   "metadata": {},
   "outputs": [],
   "source": [
    "# https://aegis4048.github.io/mutiple_linear_regression_and_visualization_in_python"
   ]
  },
  {
   "cell_type": "code",
   "execution_count": 2,
   "id": "8bd29fb1-1d3d-49b8-85ca-ce6a61cd87a1",
   "metadata": {},
   "outputs": [],
   "source": [
    "import matplotlib.pyplot as plt\n",
    "import scipy.stats as st\n",
    "import pandas as pd\n",
    "import numpy as np\n",
    "import seaborn as sns\n",
    "import scipy as sp\n",
    "import matplotlib.pyplot as plt\n",
    "from sklearn.metrics import r2_score\n",
    "from sklearn import linear_model"
   ]
  },
  {
   "cell_type": "code",
   "execution_count": 3,
   "id": "7ec04116-207c-4041-8df4-c6caed521b7c",
   "metadata": {},
   "outputs": [],
   "source": [
    "file = \"./Data/TLS_SignatureData.txt\"\n",
    "df = pd.read_csv(file, header=\"infer\", sep='\\t', quotechar='\"', error_bad_lines=False)"
   ]
  },
  {
   "cell_type": "code",
   "execution_count": 4,
   "id": "acc4171c-aa54-48ae-bde6-800dac05305d",
   "metadata": {},
   "outputs": [
    {
     "data": {
      "text/html": [
       "<div>\n",
       "<style scoped>\n",
       "    .dataframe tbody tr th:only-of-type {\n",
       "        vertical-align: middle;\n",
       "    }\n",
       "\n",
       "    .dataframe tbody tr th {\n",
       "        vertical-align: top;\n",
       "    }\n",
       "\n",
       "    .dataframe thead th {\n",
       "        text-align: right;\n",
       "    }\n",
       "</style>\n",
       "<table border=\"1\" class=\"dataframe\">\n",
       "  <thead>\n",
       "    <tr style=\"text-align: right;\">\n",
       "      <th></th>\n",
       "      <th>SampleID</th>\n",
       "      <th>CancerType</th>\n",
       "      <th>Signature1</th>\n",
       "      <th>Signature2</th>\n",
       "      <th>Signature3</th>\n",
       "      <th>CD19</th>\n",
       "      <th>PD-L1</th>\n",
       "    </tr>\n",
       "  </thead>\n",
       "  <tbody>\n",
       "    <tr>\n",
       "      <th>0</th>\n",
       "      <td>Sample1</td>\n",
       "      <td>ACC</td>\n",
       "      <td>15.1</td>\n",
       "      <td>12.4</td>\n",
       "      <td>6.3</td>\n",
       "      <td>0.9</td>\n",
       "      <td>1.8</td>\n",
       "    </tr>\n",
       "    <tr>\n",
       "      <th>1</th>\n",
       "      <td>Sample2</td>\n",
       "      <td>ACC</td>\n",
       "      <td>12.5</td>\n",
       "      <td>17.8</td>\n",
       "      <td>13.4</td>\n",
       "      <td>12.7</td>\n",
       "      <td>9.4</td>\n",
       "    </tr>\n",
       "    <tr>\n",
       "      <th>2</th>\n",
       "      <td>Sample3</td>\n",
       "      <td>ACC</td>\n",
       "      <td>0.2</td>\n",
       "      <td>10.0</td>\n",
       "      <td>18.5</td>\n",
       "      <td>15.2</td>\n",
       "      <td>4.6</td>\n",
       "    </tr>\n",
       "    <tr>\n",
       "      <th>3</th>\n",
       "      <td>Sample4</td>\n",
       "      <td>ACC</td>\n",
       "      <td>5.0</td>\n",
       "      <td>5.8</td>\n",
       "      <td>1.3</td>\n",
       "      <td>12.5</td>\n",
       "      <td>1.8</td>\n",
       "    </tr>\n",
       "    <tr>\n",
       "      <th>4</th>\n",
       "      <td>Sample5</td>\n",
       "      <td>ACC</td>\n",
       "      <td>16.3</td>\n",
       "      <td>6.3</td>\n",
       "      <td>13.8</td>\n",
       "      <td>5.2</td>\n",
       "      <td>0.6</td>\n",
       "    </tr>\n",
       "  </tbody>\n",
       "</table>\n",
       "</div>"
      ],
      "text/plain": [
       "  SampleID CancerType  Signature1  Signature2  Signature3  CD19  PD-L1\n",
       "0  Sample1        ACC        15.1        12.4         6.3   0.9    1.8\n",
       "1  Sample2        ACC        12.5        17.8        13.4  12.7    9.4\n",
       "2  Sample3        ACC         0.2        10.0        18.5  15.2    4.6\n",
       "3  Sample4        ACC         5.0         5.8         1.3  12.5    1.8\n",
       "4  Sample5        ACC        16.3         6.3        13.8   5.2    0.6"
      ]
     },
     "execution_count": 4,
     "metadata": {},
     "output_type": "execute_result"
    }
   ],
   "source": [
    "df.head()"
   ]
  },
  {
   "cell_type": "code",
   "execution_count": 5,
   "id": "3de9c11b-e88a-4355-aa1d-4bf17c1ad609",
   "metadata": {},
   "outputs": [],
   "source": [
    "#sns.set_theme(style=\"ticks\")\n",
    "#sns.pairplot(df, hue=\"CancerType\")"
   ]
  },
  {
   "cell_type": "code",
   "execution_count": 6,
   "id": "d5829ae1-474a-4fd5-b87f-e5f79f811a8d",
   "metadata": {},
   "outputs": [],
   "source": [
    "plt.style.use('default')\n",
    "#plt.style.use('ggplot')"
   ]
  },
  {
   "cell_type": "code",
   "execution_count": 7,
   "id": "3d35afe9-b8d0-455b-af25-187a97e0cad7",
   "metadata": {},
   "outputs": [],
   "source": [
    "X = df['Signature1'].values.reshape(-1,1)\n",
    "y = df['Signature2'].values"
   ]
  },
  {
   "cell_type": "code",
   "execution_count": 8,
   "id": "6a787baa-6786-4172-a0d0-5bc925a9f0f1",
   "metadata": {},
   "outputs": [],
   "source": [
    "ols = linear_model.LinearRegression()\n",
    "model = ols.fit(X, y)\n",
    "response = model.predict(X)"
   ]
  },
  {
   "cell_type": "code",
   "execution_count": 9,
   "id": "0ee77837-5565-414f-9f36-60827aa25e1e",
   "metadata": {},
   "outputs": [],
   "source": [
    "r2 = model.score(X, y).round(2)"
   ]
  },
  {
   "cell_type": "code",
   "execution_count": 10,
   "id": "6c53602d-b359-4fab-a978-a42be5e9c6a0",
   "metadata": {},
   "outputs": [],
   "source": [
    "ols = linear_model.LinearRegression()\n",
    "model = ols.fit(X, y)\n",
    "response = model.predict(X)\n",
    "r2 = model.score(X, y).round(2)"
   ]
  },
  {
   "cell_type": "code",
   "execution_count": null,
   "id": "4c129a13-3083-4d0e-ae3d-0343784da2a2",
   "metadata": {},
   "outputs": [],
   "source": []
  },
  {
   "cell_type": "code",
   "execution_count": 11,
   "id": "0865b9d2-6b99-4c05-9a0f-a84eb858ea9a",
   "metadata": {},
   "outputs": [
    {
     "data": {
      "image/png": "[encoded data removed]",
      "text/plain": [
       "<Figure size 600x600 with 1 Axes>"
      ]
     },
     "metadata": {},
     "output_type": "display_data"
    }
   ],
   "source": [
    "fig, ax = plt.subplots(figsize=(6, 6))\n",
    "\n",
    "ax.plot(X, response, color='red', label=r2)\n",
    "ax.scatter(X, y, edgecolor='k', facecolor='blue', alpha=0.6, label='Sample data')\n",
    "\n",
    "ax.text(0.11, 0.92, \"R\\N{SUPERSCRIPT TWO} = \",\n",
    "        fontsize=16, ha='center', va='center',\n",
    "        transform=ax.transAxes, color='black', alpha=1)\n",
    "\n",
    "ax.text(0.20, 0.92, r2, fontsize=16, ha='center',\n",
    "        va='center', transform=ax.transAxes,\n",
    "        color='black', alpha=1)\n",
    "\n",
    "ax.set_ylabel('Signature2', fontsize=16)\n",
    "ax.set_xlabel('Signature2', fontsize=16)\n",
    "fig.tight_layout()"
   ]
  },
  {
   "cell_type": "code",
   "execution_count": null,
   "id": "c29e9f33-5292-4f06-b9cb-1121ade47136",
   "metadata": {},
   "outputs": [],
   "source": []
  },
  {
   "cell_type": "code",
   "execution_count": null,
   "id": "1ac192a4-9e01-426d-ad49-99a70a6d73db",
   "metadata": {},
   "outputs": [],
   "source": []
  }
 ],
 "metadata": {
  "kernelspec": {
   "display_name": "Python 3",
   "language": "python",
   "name": "python3"
  },
  "language_info": {
   "codemirror_mode": {
    "name": "ipython",
    "version": 3
   },
   "file_extension": ".py",
   "mimetype": "text/x-python",
   "name": "python",
   "nbconvert_exporter": "python",
   "pygments_lexer": "ipython3",
   "version": "3.8.8"
  }
 },
 "nbformat": 4,
 "nbformat_minor": 5
}
