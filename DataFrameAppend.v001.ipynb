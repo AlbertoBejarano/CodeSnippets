{
 "cells": [
  {
   "cell_type": "code",
   "execution_count": null,
   "id": "24786d10-446e-4b15-8819-a05461482ef9",
   "metadata": {},
   "outputs": [],
   "source": [
    "import warnings; warnings.filterwarnings('ignore')\n",
    "import time; start = time.time()\n",
    "import glob, os"
   ]
  },
  {
   "cell_type": "code",
   "execution_count": null,
   "id": "a1ed9879-e9b3-4473-9b9a-6056c9a6db94",
   "metadata": {},
   "outputs": [],
   "source": [
    "import pandas as pd\n",
    "pd.options.display.max_columns = 200\n",
    "pd.options.display.precision   = 2"
   ]
  },
  {
   "cell_type": "code",
   "execution_count": null,
   "id": "5fcfe3b4-1d4d-4104-b8a1-e646a6523c88",
   "metadata": {},
   "outputs": [],
   "source": [
    "src_path = \"\\\\input\\\\\""
   ]
  },
  {
   "cell_type": "code",
   "execution_count": null,
   "id": "db8d0adc-af71-46de-8751-72f827f620ea",
   "metadata": {},
   "outputs": [],
   "source": [
    "path = os.getcwd() + src_path; path"
   ]
  },
  {
   "cell_type": "code",
   "execution_count": null,
   "id": "2bf4f2ec-22d1-4b1e-b74d-f2affca620ed",
   "metadata": {},
   "outputs": [],
   "source": [
    "df0 = pd.DataFrame()"
   ]
  },
  {
   "cell_type": "code",
   "execution_count": null,
   "id": "800ebf6a-22f3-4dc7-b78d-499feefcf0f3",
   "metadata": {},
   "outputs": [],
   "source": [
    "%%time\n",
    "#         .         .         .         .         .         .         .         .         .\n",
    "rows = 0\n",
    "#         .         .         .         .         .         .         .         .         .\n",
    "for file in glob.glob(os.path.join(path, '**', '*.*'), recursive=True):\n",
    "    df = pd.read_csv(open(file), header=0, sep='\\t', quotechar='\"', error_bad_lines=False)\n",
    "    n = len(df); rows += n\n",
    "    df0 = df0.append(df, ignore_index = True)\n",
    "print(rows, \"\\n\")"
   ]
  },
  {
   "cell_type": "code",
   "execution_count": null,
   "id": "806c9a57-4197-4ef2-ac20-e491697e030a",
   "metadata": {},
   "outputs": [],
   "source": [
    "df0"
   ]
  },
  {
   "cell_type": "code",
   "execution_count": null,
   "id": "43c7e7c0-916f-429e-aedb-e7cfd2d802f8",
   "metadata": {},
   "outputs": [],
   "source": [
    "alpha = len(df0)"
   ]
  },
  {
   "cell_type": "code",
   "execution_count": null,
   "id": "c62412ed-4056-4aef-99a8-585fc357f4fc",
   "metadata": {},
   "outputs": [],
   "source": [
    "df0.drop_duplicates(subset=None, keep='last', inplace=True, ignore_index=True)"
   ]
  },
  {
   "cell_type": "code",
   "execution_count": null,
   "id": "fcfea7c9-5828-4cc1-b317-25720481aa82",
   "metadata": {},
   "outputs": [],
   "source": [
    "df0"
   ]
  },
  {
   "cell_type": "code",
   "execution_count": null,
   "id": "469a4909-ca1f-45ee-a0ff-5daaf71cb368",
   "metadata": {},
   "outputs": [],
   "source": [
    "omega = len(df0)"
   ]
  },
  {
   "cell_type": "code",
   "execution_count": null,
   "id": "5c0aa064-a465-4c75-9d0b-d50bddca49e1",
   "metadata": {},
   "outputs": [],
   "source": [
    "print(str(alpha-omega) + \" duplicated row(s) found were removed\")"
   ]
  },
  {
   "cell_type": "code",
   "execution_count": null,
   "id": "4e36590e-44d1-451d-8dbe-a2f3623d3c48",
   "metadata": {},
   "outputs": [],
   "source": [
    "df0.to_csv(\"output.csv\", sep=\"\\t\", index=False)"
   ]
  },
  {
   "cell_type": "code",
   "execution_count": null,
   "id": "0f621c0f-9cb0-4f82-8fbe-bfa4afa0d02e",
   "metadata": {},
   "outputs": [],
   "source": []
  },
  {
   "cell_type": "code",
   "execution_count": null,
   "id": "cdb03b2b-351e-4af5-9547-54d51c543048",
   "metadata": {},
   "outputs": [],
   "source": []
  }
 ],
 "metadata": {
  "kernelspec": {
   "display_name": "Python 3 (ipykernel)",
   "language": "python",
   "name": "python3"
  },
  "language_info": {
   "codemirror_mode": {
    "name": "ipython",
    "version": 3
   },
   "file_extension": ".py",
   "mimetype": "text/x-python",
   "name": "python",
   "nbconvert_exporter": "python",
   "pygments_lexer": "ipython3",
   "version": "3.9.7"
  }
 },
 "nbformat": 4,
 "nbformat_minor": 5
}
