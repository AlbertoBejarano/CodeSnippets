{
 "cells": [
  {
   "cell_type": "code",
   "execution_count": 1,
   "id": "e55a06c5-fc6c-4fe3-8758-b9afb701a3d0",
   "metadata": {},
   "outputs": [],
   "source": [
    "import pandas as pd"
   ]
  },
  {
   "cell_type": "code",
   "execution_count": 2,
   "id": "aa4707bc-4bd0-4a08-9ac3-e2e93b253e02",
   "metadata": {},
   "outputs": [],
   "source": [
    "df1 = pd.read_csv('./Data/InputData1.csv',sep='\\t',index_col=0)\n",
    "df2 = pd.read_csv('./Data/InputData2.csv',sep='\\t',index_col=0)"
   ]
  },
  {
   "cell_type": "code",
   "execution_count": 3,
   "id": "ca7c71a7-a8c5-4d47-96db-f0ffe5edf7d4",
   "metadata": {},
   "outputs": [],
   "source": [
    "df3 = df1.append(df2,sort=True)"
   ]
  },
  {
   "cell_type": "code",
   "execution_count": 4,
   "id": "286c21fc-ac60-4bd9-b696-38be645ac4e6",
   "metadata": {},
   "outputs": [
    {
     "name": "stdout",
     "output_type": "stream",
     "text": [
      "Input 1  DataFrame Shape:  (2, 3)\n",
      "Input 2  DataFrame Shape:  (3, 3)\n",
      "Output   DataFrame Shape:  (5, 3)\n"
     ]
    }
   ],
   "source": [
    "print(\"Input 1  DataFrame Shape: \",df1.shape)\n",
    "print(\"Input 2  DataFrame Shape: \",df2.shape)\n",
    "print(\"Output   DataFrame Shape: \",df3.shape)"
   ]
  },
  {
   "cell_type": "code",
   "execution_count": 5,
   "id": "b1b22400-b55a-40e3-9e61-3507d62ee80b",
   "metadata": {},
   "outputs": [],
   "source": [
    "df3.to_csv('./Data/OutputData.csv',sep='\\t', index=True, encoding='utf-8')"
   ]
  }
 ],
 "metadata": {
  "kernelspec": {
   "display_name": "Python 3",
   "language": "python",
   "name": "python3"
  },
  "language_info": {
   "codemirror_mode": {
    "name": "ipython",
    "version": 3
   },
   "file_extension": ".py",
   "mimetype": "text/x-python",
   "name": "python",
   "nbconvert_exporter": "python",
   "pygments_lexer": "ipython3",
   "version": "3.8.8"
  }
 },
 "nbformat": 4,
 "nbformat_minor": 5
}
