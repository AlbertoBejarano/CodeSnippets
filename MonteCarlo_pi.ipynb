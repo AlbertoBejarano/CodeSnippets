{
 "cells": [
  {
   "cell_type": "code",
   "execution_count": 1,
   "id": "66259a84-c9f6-478b-9784-c0cdb91e4de2",
   "metadata": {},
   "outputs": [],
   "source": [
    "import random\n",
    "import time"
   ]
  },
  {
   "cell_type": "code",
   "execution_count": 2,
   "id": "c1dc57ca-807e-455a-9a78-2297a96d2cd5",
   "metadata": {},
   "outputs": [],
   "source": [
    "def monte_carlo_pi(nsamples):\n",
    "    acc = 0\n",
    "    for _ in range(int(nsamples)):\n",
    "        x = random.random()\n",
    "        y = random.random()\n",
    "        if (x**2 + y**2) < 1.0:\n",
    "            acc += 1\n",
    "    return 4.0 * acc / nsamples"
   ]
  },
  {
   "cell_type": "code",
   "execution_count": null,
   "id": "edbbbc6b-7ee4-468a-8e62-df35fd2cd8c8",
   "metadata": {},
   "outputs": [
    {
     "name": "stdout",
     "output_type": "stream",
     "text": [
      "\t1e^0 = 3.13908\t0.7531757354736328s\n",
      "\t1e^1 = "
     ]
    }
   ],
   "source": [
    "%%time\n",
    "samples = 100\n",
    "start   = time.time()\n",
    "for i in range(0,samples):\n",
    "        print(\"\\t1e^\"+ str(i) + \" = \", end=\"\")\n",
    "        print(str(monte_carlo_pi(1e6)) + \"\\t\", end=\"\")\n",
    "        check = time.time() - start\n",
    "        print(str(check) + \"s\")"
   ]
  },
  {
   "cell_type": "code",
   "execution_count": null,
   "id": "2d4799bf-845b-4ab6-9079-c5f550fc94c8",
   "metadata": {},
   "outputs": [],
   "source": []
  }
 ],
 "metadata": {
  "kernelspec": {
   "display_name": "Python 3 (ipykernel)",
   "language": "python",
   "name": "python3"
  },
  "language_info": {
   "codemirror_mode": {
    "name": "ipython",
    "version": 3
   },
   "file_extension": ".py",
   "mimetype": "text/x-python",
   "name": "python",
   "nbconvert_exporter": "python",
   "pygments_lexer": "ipython3",
   "version": "3.9.7"
  }
 },
 "nbformat": 4,
 "nbformat_minor": 5
}
