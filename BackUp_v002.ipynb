{
 "cells": [
  {
   "cell_type": "code",
   "execution_count": 1,
   "id": "4aa3ca80-cd5e-469f-a3d0-de21c4dbd5e8",
   "metadata": {},
   "outputs": [],
   "source": [
    "from datetime import datetime\n",
    "import logging\n",
    "import zipfile\n",
    "import shutil\n",
    "import glob\n",
    "import os"
   ]
  },
  {
   "cell_type": "code",
   "execution_count": 2,
   "id": "e4d70c8e-7c53-4a10-87d2-01930c2bdcf2",
   "metadata": {},
   "outputs": [],
   "source": [
    "import time; start = time.time()"
   ]
  },
  {
   "cell_type": "code",
   "execution_count": 3,
   "id": "1113d46b-4620-43b9-8399-031dbf00d85b",
   "metadata": {},
   "outputs": [
    {
     "data": {
      "text/plain": [
       "'C:\\\\Users\\\\alber\\\\Python Projects'"
      ]
     },
     "execution_count": 3,
     "metadata": {},
     "output_type": "execute_result"
    }
   ],
   "source": [
    "%pwd"
   ]
  },
  {
   "cell_type": "code",
   "execution_count": 4,
   "id": "71670643-e710-4fe2-9e1f-b2e5827426a3",
   "metadata": {},
   "outputs": [],
   "source": [
    "src_path  = 'C:\\\\Users\\\\alber\\\\Python Projects\\\\'\n",
    "dest_path = 'C:\\\\Users\\\\alber\\\\Python Projects\\\\_BackUp'\n",
    "#      -     -     -     -     -     -     -     -     -     -     -     -     -     -\n",
    "date = datetime.today().strftime('%Y.%m.%d')\n",
    "output_filename = str(date) + \"_BackUp\"\n",
    "output_dir_name  = 'C:\\\\Users\\\\alber\\\\Python Projects\\\\'"
   ]
  },
  {
   "cell_type": "code",
   "execution_count": 25,
   "id": "8604151e-2cca-4580-8974-14c1a8d75e07",
   "metadata": {},
   "outputs": [
    {
     "name": "stdout",
     "output_type": "stream",
     "text": [
      "1\n",
      "2\n",
      "3\n",
      "4\n",
      "5\n",
      "6\n",
      "7\n",
      "8\n",
      "9\n",
      "10\n",
      "11\n",
      "12\n",
      "13\n",
      "14\n",
      "15\n",
      "16\n",
      "17\n",
      "18\n",
      "19\n",
      "20\n",
      "21\n",
      "22\n",
      "23\n",
      "24\n",
      "25\n",
      "26\n",
      "27\n",
      "28\n",
      "29\n",
      "30\n",
      "31\n",
      "32\n",
      "33\n",
      "34\n",
      "35\n",
      "36\n",
      "37\n",
      "38\n",
      "39\n",
      "40\n",
      "41\n",
      "42\n",
      "43\n",
      "44\n",
      "45\n",
      "46\n",
      "47\n",
      "48\n",
      "49\n",
      "50\n",
      "51\n",
      "52\n",
      "53\n",
      "54\n",
      "55\n",
      "56\n",
      "57\n",
      "58\n",
      "59\n",
      "60\n",
      "61\n",
      "62\n",
      "63\n",
      "64\n",
      "65\n",
      "66\n",
      "67\n",
      "68\n",
      "69\n",
      "70\n",
      "71\n",
      "72\n",
      "73\n",
      "74\n",
      "75\n",
      "76\n",
      "77\n",
      "78\n",
      "79\n",
      "80\n",
      "81\n",
      "82\n",
      "83\n",
      "84\n",
      "85\n",
      "86\n",
      "87\n",
      "88\n",
      "89\n",
      "90\n",
      "91\n",
      "92\n",
      "93\n",
      "94\n",
      "95\n",
      "96\n",
      "97\n",
      "98\n",
      "99\n",
      "100\n",
      "101\n",
      "102\n",
      "103\n",
      "104\n",
      "105\n",
      "106\n",
      "107\n",
      "108\n",
      "109\n",
      "110\n",
      "111\n",
      "112\n",
      "113\n",
      "114\n",
      "115\n",
      "116\n",
      "117\n",
      "118\n",
      "119\n",
      "120\n",
      "121\n",
      "122\n",
      "123\n",
      "124\n",
      "125\n",
      "126\n",
      "127\n",
      "128\n",
      "129\n",
      "130\n",
      "131\n",
      "132\n",
      "133\n",
      "134\n",
      "135\n",
      "136\n",
      "137\n",
      "138\n",
      "139\n",
      "140\n",
      "141\n",
      "142\n",
      "143\n",
      "144\n",
      "145\n",
      "146\n",
      "147\n",
      "148\n",
      "149\n",
      "150\n",
      "151\n",
      "152\n",
      "153\n",
      "154\n",
      "155\n",
      "156\n",
      "157\n",
      "158\n",
      "159\n",
      "160\n",
      "161\n",
      "162\n",
      "163\n",
      "164\n",
      "165\n",
      "166\n",
      "167\n",
      "168\n",
      "169\n",
      "170\n",
      "171\n",
      "172\n",
      "173\n",
      "174\n",
      "175\n",
      "176\n",
      "177\n",
      "178\n",
      "179\n",
      "180\n",
      "181\n",
      "182\n",
      "183\n",
      "184\n",
      "185\n",
      "186\n",
      "187\n",
      "188\n",
      "189\n",
      "190\n",
      "191\n",
      "192\n",
      "193\n",
      "194\n",
      "195\n",
      "196\n",
      "197\n",
      "198\n",
      "199\n",
      "200\n",
      "201\n",
      "202\n",
      "203\n",
      "22\n"
     ]
    }
   ],
   "source": [
    "file_count1 = 0\n",
    "for file_path in glob.glob(os.path.join(src_path, '**', '*.ipynb'), recursive=True):\n",
    "        new_path = os.path.join(dest_path, os.path.basename(file_path))\n",
    "        try:\n",
    "            shutil.copy(file_path, new_path)\n",
    "            file_count1 += 1\n",
    "        except Exception as e:\n",
    "            file_count1 -= 1\n",
    "            pass\n",
    "        else:\n",
    "            #logging.warning(f\"Exception Name: {type(e).__name__}\")\n",
    "            #print(\" File Already Exists\")\n",
    "            #file_count1 -= 1\n",
    "            print(file_count1)\n",
    "print(file_count1)"
   ]
  },
  {
   "cell_type": "code",
   "execution_count": 6,
   "id": "e7e7da44-0c43-4714-9576-af2daf2be74e",
   "metadata": {},
   "outputs": [
    {
     "name": "stdout",
     "output_type": "stream",
     "text": [
      "\u001b[31m 2023.02.06 \u001b[0m\n"
     ]
    }
   ],
   "source": [
    "print(\"\\x1b[31m\", date, \"\\x1b[0m\")"
   ]
  },
  {
   "cell_type": "code",
   "execution_count": 7,
   "id": "2ea30614-0906-48f1-997a-62f69fd917d2",
   "metadata": {},
   "outputs": [
    {
     "name": "stdout",
     "output_type": "stream",
     "text": [
      "CPU times: total: 20.9 s\n",
      "Wall time: 21 s\n"
     ]
    },
    {
     "data": {
      "text/plain": [
       "'C:\\\\Users\\\\alber\\\\Python Projects\\\\2023.02.06_BackUp.zip'"
      ]
     },
     "execution_count": 7,
     "metadata": {},
     "output_type": "execute_result"
    }
   ],
   "source": [
    "%%time\n",
    "shutil.make_archive(output_filename, 'zip', dest_path)"
   ]
  },
  {
   "cell_type": "code",
   "execution_count": 8,
   "id": "23d194ea-e515-4e6e-9b2b-a2ed0346a835",
   "metadata": {},
   "outputs": [
    {
     "name": "stdout",
     "output_type": "stream",
     "text": [
      "'BackUp_v002' script run time: 22 seconds.\n"
     ]
    }
   ],
   "source": [
    "print(\"'BackUp_v002' script run time:\", f'{time.time()-start:.0f}', \"seconds.\")"
   ]
  },
  {
   "cell_type": "code",
   "execution_count": null,
   "id": "87910910-ff90-4dc5-9aa4-423e93983186",
   "metadata": {},
   "outputs": [],
   "source": []
  },
  {
   "cell_type": "code",
   "execution_count": null,
   "id": "99c251b8-16a8-4bff-9864-324a4700fe94",
   "metadata": {},
   "outputs": [],
   "source": []
  }
 ],
 "metadata": {
  "kernelspec": {
   "display_name": "Python 3 (ipykernel)",
   "language": "python",
   "name": "python3"
  },
  "language_info": {
   "codemirror_mode": {
    "name": "ipython",
    "version": 3
   },
   "file_extension": ".py",
   "mimetype": "text/x-python",
   "name": "python",
   "nbconvert_exporter": "python",
   "pygments_lexer": "ipython3",
   "version": "3.9.7"
  }
 },
 "nbformat": 4,
 "nbformat_minor": 5
}
